{
 "cells": [
  {
   "cell_type": "code",
   "execution_count": 1,
   "metadata": {},
   "outputs": [],
   "source": [
    "import os\n",
    "\n",
    "base_dir = os.getcwd()\n",
    "\n",
    "# dataset paths\n",
    "dataset_path = os.path.join(base_dir, 'datasets')\n",
    "train_dir = os.path.join(dataset_path, 'train')\n",
    "val_dir = os.path.join(dataset_path, 'val')\n",
    "\n",
    "# 저장할 model path\n",
    "save_dir = os.path.join(base_dir, 'saved_models')\n",
    "\n",
    "classes = ['0_front', '1_back', '1_front', '2_back', '2_front', '5_front', 'ILU']\n",
    "\n",
    "# train, validation의 각 class별 directory path\n",
    "train_cls_dirs = [os.path.join(train_dir, c) for c in classes]\n",
    "val_cls_dirs = [os.path.join(val_dir, c) for c in classes]"
   ]
  },
  {
   "cell_type": "code",
   "execution_count": 2,
   "metadata": {},
   "outputs": [],
   "source": [
    "import cv2\n",
    "import numpy as np\n",
    "\n",
    "# Load dataset\n",
    "def get_X_y_datas(class_dirs):\n",
    "    X = []\n",
    "    y = []\n",
    "    for i, dir_path in enumerate(class_dirs):\n",
    "        files = sorted(os.listdir(class_dirs[i]))\n",
    "        files_paths = [os.path.join(dir_path, f) for f in files]\n",
    "        \n",
    "        for file_path in files_paths:\n",
    "            img_bgr = cv2.imread(file_path, cv2.IMREAD_COLOR)\n",
    "            img_rgb = cv2.cvtColor(img_bgr, cv2.COLOR_BGR2RGB)\n",
    "            input_img = img_rgb.astype(np.float32)/255.\n",
    "            \n",
    "            X.append(input_img)\n",
    "            y.append(int(i))\n",
    "            \n",
    "    return np.array(X), np.array(y).astype(np.uint8)"
   ]
  },
  {
   "cell_type": "code",
   "execution_count": 3,
   "metadata": {},
   "outputs": [
    {
     "name": "stdout",
     "output_type": "stream",
     "text": [
      "(18654, 250, 200, 3) (18654, 7)\n",
      "(9222, 250, 200, 3) (9222, 7)\n"
     ]
    }
   ],
   "source": [
    "from tensorflow.keras.utils import to_categorical\n",
    "\n",
    "num_classes = 7\n",
    "\n",
    "# Load train, validation datas\n",
    "X_train, y_train = get_X_y_datas(train_cls_dirs)\n",
    "X_val, y_val = get_X_y_datas(val_cls_dirs)\n",
    "\n",
    "# Shuffle\n",
    "idx = np.random.permutation(len(X_train))\n",
    "X_train, y_train = X_train[idx], y_train[idx]\n",
    "\n",
    "idx = np.random.permutation(len(X_val))\n",
    "X_val, y_val = X_val[idx], y_val[idx]\n",
    "\n",
    "# one-hot encoding\n",
    "y_train = to_categorical(y_train, num_classes)\n",
    "y_val = to_categorical(y_val, num_classes)\n",
    "\n",
    "print(X_train.shape, y_train.shape)\n",
    "print(X_val.shape, y_val.shape)"
   ]
  },
  {
   "cell_type": "code",
   "execution_count": 4,
   "metadata": {},
   "outputs": [],
   "source": [
    "from tensorflow.keras.callbacks import ModelCheckpoint, EarlyStopping, ReduceLROnPlateau\n",
    "from tensorflow.keras.optimizers import Adam, RMSprop\n",
    "\n",
    "# 학습에 사용할 callback\n",
    "callbacks_list = [\n",
    "    EarlyStopping(\n",
    "        monitor='val_loss',\n",
    "        patience=10,\n",
    "    ),\n",
    "    ModelCheckpoint(\n",
    "        filepath=os.path.join(save_dir, 'hand_sign_fine_tune_vgg16.h5'),\n",
    "        monitor='val_loss',\n",
    "        save_best_only=True,\n",
    "    ),\n",
    "    ReduceLROnPlateau(\n",
    "        monitor='val_loss',\n",
    "        factor=0.5,\n",
    "        patience=5,\n",
    "        verbose=1\n",
    "    )\n",
    "]"
   ]
  },
  {
   "cell_type": "code",
   "execution_count": 5,
   "metadata": {},
   "outputs": [],
   "source": [
    "import tensorflow as tf\n",
    "\n",
    "# 2-1에서 학습한 모델 불러오기\n",
    "model = tf.keras.models.load_model(\"./saved_models/hand_sign_fine_tune_vgg16.h5\")"
   ]
  },
  {
   "cell_type": "code",
   "execution_count": 6,
   "metadata": {},
   "outputs": [
    {
     "name": "stdout",
     "output_type": "stream",
     "text": [
      "vgg16\n",
      "flatten\n",
      "dense\n",
      "batch_normalization\n",
      "re_lu\n",
      "dropout\n",
      "dense_1\n",
      "batch_normalization_1\n",
      "re_lu_1\n",
      "dropout_1\n",
      "dense_2\n"
     ]
    }
   ],
   "source": [
    "# vgg16 모델 layer 찾아서 가져오기\n",
    "for layer in model.layers:\n",
    "    print(layer.name)\n",
    "vgg16 = model.layers[0]\n",
    "\n",
    "# 학습되도록 설정\n",
    "vgg16.trainable = True\n",
    "\n",
    "# 제일 마지막 conv block(conv layer 4개)만 제외하고 모두 학습되지 않도록 설정\n",
    "for layer in vgg16.layers[:-4]:\n",
    "    layer.trainable = False"
   ]
  },
  {
   "cell_type": "code",
   "execution_count": 7,
   "metadata": {},
   "outputs": [],
   "source": [
    "# fine tuning시에는 이미 학습된 표현을 조금씩 수정하기 위해 learning rate를 작게 설정\n",
    "model.compile(optimizer=RMSprop(lr=1e-4),\n",
    "              loss='categorical_crossentropy',\n",
    "              metrics=['acc'])"
   ]
  },
  {
   "cell_type": "code",
   "execution_count": 8,
   "metadata": {},
   "outputs": [
    {
     "name": "stdout",
     "output_type": "stream",
     "text": [
      "Train on 18654 samples, validate on 9222 samples\n",
      "Epoch 1/100\n",
      "18654/18654 [==============================] - 50s 3ms/sample - loss: 0.1649 - acc: 0.9499 - val_loss: 3.1625 - val_acc: 0.7264\n",
      "Epoch 2/100\n",
      "18654/18654 [==============================] - 45s 2ms/sample - loss: 0.0751 - acc: 0.9774 - val_loss: 0.3484 - val_acc: 0.9376\n",
      "Epoch 3/100\n",
      "18654/18654 [==============================] - 44s 2ms/sample - loss: 0.0416 - acc: 0.9874 - val_loss: 0.3645 - val_acc: 0.9358\n",
      "Epoch 4/100\n",
      "18654/18654 [==============================] - 45s 2ms/sample - loss: 0.0245 - acc: 0.9922 - val_loss: 0.2474 - val_acc: 0.9526\n",
      "Epoch 5/100\n",
      "18654/18654 [==============================] - 45s 2ms/sample - loss: 0.0188 - acc: 0.9943 - val_loss: 0.2244 - val_acc: 0.9465\n",
      "Epoch 6/100\n",
      "18654/18654 [==============================] - 45s 2ms/sample - loss: 0.0141 - acc: 0.9963 - val_loss: 0.1219 - val_acc: 0.9694\n",
      "Epoch 7/100\n",
      "18654/18654 [==============================] - 44s 2ms/sample - loss: 0.0103 - acc: 0.9971 - val_loss: 0.1756 - val_acc: 0.9623\n",
      "Epoch 8/100\n",
      "18654/18654 [==============================] - 45s 2ms/sample - loss: 0.0094 - acc: 0.9970 - val_loss: 0.1143 - val_acc: 0.9689\n",
      "Epoch 9/100\n",
      "18654/18654 [==============================] - 45s 2ms/sample - loss: 0.0080 - acc: 0.9976 - val_loss: 0.1129 - val_acc: 0.9748\n",
      "Epoch 10/100\n",
      "18654/18654 [==============================] - 44s 2ms/sample - loss: 0.0077 - acc: 0.9979 - val_loss: 0.1834 - val_acc: 0.9512\n",
      "Epoch 11/100\n",
      "18654/18654 [==============================] - 45s 2ms/sample - loss: 0.0069 - acc: 0.9981 - val_loss: 0.0868 - val_acc: 0.9798\n",
      "Epoch 12/100\n",
      "18654/18654 [==============================] - 44s 2ms/sample - loss: 0.0058 - acc: 0.9984 - val_loss: 0.1008 - val_acc: 0.9700\n",
      "Epoch 13/100\n",
      "18654/18654 [==============================] - 44s 2ms/sample - loss: 0.0084 - acc: 0.9982 - val_loss: 0.3696 - val_acc: 0.9462\n",
      "Epoch 14/100\n",
      "18654/18654 [==============================] - 44s 2ms/sample - loss: 0.0054 - acc: 0.9984 - val_loss: 0.1129 - val_acc: 0.9739\n",
      "Epoch 15/100\n",
      "18654/18654 [==============================] - 44s 2ms/sample - loss: 0.0024 - acc: 0.9995 - val_loss: 0.1000 - val_acc: 0.9767\n",
      "Epoch 16/100\n",
      "18624/18654 [============================>.] - ETA: 0s - loss: 0.0020 - acc: 0.9992\n",
      "Epoch 00016: ReduceLROnPlateau reducing learning rate to 4.999999873689376e-05.\n",
      "18654/18654 [==============================] - 44s 2ms/sample - loss: 0.0020 - acc: 0.9992 - val_loss: 0.1048 - val_acc: 0.9791\n",
      "Epoch 17/100\n",
      "18654/18654 [==============================] - 45s 2ms/sample - loss: 9.1823e-04 - acc: 0.9997 - val_loss: 0.0503 - val_acc: 0.9859\n",
      "Epoch 18/100\n",
      "18654/18654 [==============================] - 44s 2ms/sample - loss: 3.7545e-04 - acc: 0.9999 - val_loss: 0.0625 - val_acc: 0.9850\n",
      "Epoch 19/100\n",
      "18654/18654 [==============================] - 44s 2ms/sample - loss: 7.9689e-05 - acc: 1.0000 - val_loss: 0.0758 - val_acc: 0.9848\n",
      "Epoch 20/100\n",
      "18654/18654 [==============================] - 44s 2ms/sample - loss: 1.0885e-04 - acc: 1.0000 - val_loss: 0.0527 - val_acc: 0.9879\n",
      "Epoch 21/100\n",
      "18654/18654 [==============================] - 44s 2ms/sample - loss: 6.1718e-04 - acc: 0.9998 - val_loss: 0.0580 - val_acc: 0.9848\n",
      "Epoch 22/100\n",
      "18654/18654 [==============================] - 45s 2ms/sample - loss: 1.8937e-04 - acc: 0.9999 - val_loss: 0.0477 - val_acc: 0.9872\n",
      "Epoch 23/100\n",
      "18654/18654 [==============================] - 45s 2ms/sample - loss: 1.2581e-04 - acc: 0.9999 - val_loss: 0.0415 - val_acc: 0.9903\n",
      "Epoch 24/100\n",
      "18654/18654 [==============================] - 44s 2ms/sample - loss: 7.5489e-05 - acc: 1.0000 - val_loss: 0.0586 - val_acc: 0.9859\n",
      "Epoch 25/100\n",
      "18654/18654 [==============================] - 44s 2ms/sample - loss: 2.6575e-05 - acc: 1.0000 - val_loss: 0.0710 - val_acc: 0.9871\n",
      "Epoch 26/100\n",
      "18654/18654 [==============================] - 44s 2ms/sample - loss: 5.0706e-06 - acc: 1.0000 - val_loss: 0.1070 - val_acc: 0.9803\n",
      "Epoch 27/100\n",
      "18654/18654 [==============================] - 44s 2ms/sample - loss: 2.5570e-04 - acc: 0.9999 - val_loss: 0.0574 - val_acc: 0.9880\n",
      "Epoch 28/100\n",
      "18624/18654 [============================>.] - ETA: 0s - loss: 5.1722e-06 - acc: 1.0000\n",
      "Epoch 00028: ReduceLROnPlateau reducing learning rate to 2.499999936844688e-05.\n",
      "18654/18654 [==============================] - 44s 2ms/sample - loss: 5.1644e-06 - acc: 1.0000 - val_loss: 0.0794 - val_acc: 0.9859\n",
      "Epoch 29/100\n",
      "18654/18654 [==============================] - 44s 2ms/sample - loss: 1.5369e-04 - acc: 0.9999 - val_loss: 0.0638 - val_acc: 0.9879\n",
      "Epoch 30/100\n",
      "18654/18654 [==============================] - 44s 2ms/sample - loss: 1.9919e-06 - acc: 1.0000 - val_loss: 0.0570 - val_acc: 0.9901\n",
      "Epoch 31/100\n",
      "18654/18654 [==============================] - 44s 2ms/sample - loss: 4.7160e-05 - acc: 0.9999 - val_loss: 0.0562 - val_acc: 0.9898\n",
      "Epoch 32/100\n",
      "18654/18654 [==============================] - 44s 2ms/sample - loss: 1.6283e-06 - acc: 1.0000 - val_loss: 0.0598 - val_acc: 0.9892\n",
      "Epoch 33/100\n",
      "18624/18654 [============================>.] - ETA: 0s - loss: 8.5576e-07 - acc: 1.0000\n",
      "Epoch 00033: ReduceLROnPlateau reducing learning rate to 1.249999968422344e-05.\n",
      "18654/18654 [==============================] - 44s 2ms/sample - loss: 8.5441e-07 - acc: 1.0000 - val_loss: 0.0609 - val_acc: 0.9895\n"
     ]
    }
   ],
   "source": [
    "n_epochs=100\n",
    "batch_size=64\n",
    "\n",
    "history = model.fit(X_train, y_train,\n",
    "                    epochs=n_epochs, batch_size=batch_size,\n",
    "                    validation_data=(X_val, y_val),\n",
    "                    callbacks=callbacks_list)"
   ]
  },
  {
   "cell_type": "code",
   "execution_count": 9,
   "metadata": {},
   "outputs": [
    {
     "data": {
      "image/png": "[encoded data removed]",
      "text/plain": [
       "<Figure size 432x288 with 1 Axes>"
      ]
     },
     "metadata": {
      "needs_background": "light"
     },
     "output_type": "display_data"
    },
    {
     "data": {
      "image/png": "[encoded data removed]",
      "text/plain": [
       "<Figure size 432x288 with 1 Axes>"
      ]
     },
     "metadata": {
      "needs_background": "light"
     },
     "output_type": "display_data"
    }
   ],
   "source": [
    "import matplotlib.pyplot as plt\n",
    "\n",
    "acc = history.history['acc']\n",
    "val_acc = history.history['val_acc']\n",
    "loss = history.history['loss']\n",
    "val_loss = history.history['val_loss']\n",
    "\n",
    "epochs = range(1, len(acc) + 1)\n",
    "\n",
    "# Plot accuracy curve\n",
    "plt.plot(epochs, acc, 'b', label='Training Accuracy')\n",
    "plt.plot(epochs, val_acc, 'r', label='Validation Accuracy')\n",
    "plt.title('Accuracy')\n",
    "plt.legend()\n",
    "\n",
    "plt.figure()\n",
    "\n",
    "# Plot loss curve\n",
    "plt.plot(epochs, loss, 'b', label='Training loss')\n",
    "plt.plot(epochs, val_loss, 'r', label='Validation_loss')\n",
    "plt.title('Loss')\n",
    "plt.legend()\n",
    "\n",
    "plt.show()"
   ]
  },
  {
   "cell_type": "code",
   "execution_count": 10,
   "metadata": {},
   "outputs": [
    {
     "data": {
      "image/png": "[encoded data removed]",
      "text/plain": [
       "<Figure size 576x576 with 2 Axes>"
      ]
     },
     "metadata": {
      "needs_background": "light"
     },
     "output_type": "display_data"
    }
   ],
   "source": [
    "import itertools\n",
    "import matplotlib.pyplot as plt\n",
    "from sklearn.metrics import confusion_matrix\n",
    "\n",
    "# Plot confusion matrix\n",
    "def confusion_matrix_plot(cm, classes, \n",
    "                          title='Normalized Confusion Matrix', \n",
    "                          normalize=True, \n",
    "                          cmap=plt.cm.Blues):\n",
    "    \"\"\"\n",
    "    This function prints and plots the confusion matrix.\n",
    "    Normalization can be applied by setting `normalize=True`.\n",
    "    \"\"\"\n",
    "\n",
    "    if normalize:\n",
    "        cm = cm.astype('float') / cm.sum(axis=1)[:, np.newaxis]\n",
    "        cm = np.around(cm, decimals=2)\n",
    "        cm[np.isnan(cm)] = 0.0\n",
    "    plt.subplots(1, 1, figsize=(8, 8))\n",
    "    plt.imshow(cm, interpolation='nearest', cmap=cmap)\n",
    "    plt.title(title)\n",
    "    plt.colorbar()\n",
    "    tick_marks = np.arange(len(classes))\n",
    "    plt.xticks(tick_marks, classes)\n",
    "    plt.yticks(tick_marks, classes)\n",
    "\n",
    "    fmt = '.2f'\n",
    "    thresh = cm.max() / 2.\n",
    "    for i, j in itertools.product(range(cm.shape[0]), range(cm.shape[1])):\n",
    "        plt.text(j, i, format(cm[i, j], fmt),\n",
    "                 horizontalalignment=\"center\",\n",
    "                 color=\"white\" if cm[i, j] > thresh else \"black\")\n",
    "\n",
    "    plt.tight_layout()\n",
    "    plt.ylabel('True label')\n",
    "    plt.xlabel('Predicted label')\n",
    "    \n",
    "\n",
    "y_preds = model.predict(X_val)\n",
    "y_preds = np.argmax(y_preds, axis=1)\n",
    "conf_mx = confusion_matrix(np.argmax(y_val, axis=1), y_preds)\n",
    "\n",
    "confusion_matrix_plot(conf_mx, classes=classes)"
   ]
  }
 ],
 "metadata": {
  "kernelspec": {
   "display_name": "Python 3",
   "language": "python",
   "name": "python3"
  },
  "language_info": {
   "codemirror_mode": {
    "name": "ipython",
    "version": 3
   },
   "file_extension": ".py",
   "mimetype": "text/x-python",
   "name": "python",
   "nbconvert_exporter": "python",
   "pygments_lexer": "ipython3",
   "version": "3.7.6"
  }
 },
 "nbformat": 4,
 "nbformat_minor": 4
}
