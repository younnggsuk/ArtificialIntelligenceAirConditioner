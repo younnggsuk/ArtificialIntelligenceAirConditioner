{
 "cells": [
  {
   "cell_type": "markdown",
   "metadata": {},
   "source": [
    "# 2-1. Feature Extraction"
   ]
  },
  {
   "cell_type": "code",
   "execution_count": 1,
   "metadata": {},
   "outputs": [],
   "source": [
    "import os\n",
    "\n",
    "base_dir = os.getcwd()\n",
    "\n",
    "# dataset paths\n",
    "dataset_path = os.path.join(base_dir, 'datasets')\n",
    "train_dir = os.path.join(dataset_path, 'train')\n",
    "val_dir = os.path.join(dataset_path, 'val')\n",
    "\n",
    "# 저장할 model path\n",
    "save_dir = os.path.join(base_dir, 'saved_models')\n",
    "\n",
    "classes = ['0_front', '1_back', '1_front', '2_back', '2_front', '5_front', 'ILU']\n",
    "\n",
    "train_cls_dirs = [os.path.join(train_dir, c) for c in classes]\n",
    "val_cls_dirs = [os.path.join(val_dir, c) for c in classes]"
   ]
  },
  {
   "cell_type": "code",
   "execution_count": 2,
   "metadata": {},
   "outputs": [],
   "source": [
    "import cv2\n",
    "import numpy as np\n",
    "\n",
    "# Load dataset\n",
    "def get_X_y_datas(class_dirs):\n",
    "    X = []\n",
    "    y = []\n",
    "    for i, dir_path in enumerate(class_dirs):\n",
    "        files = sorted(os.listdir(class_dirs[i]))\n",
    "        files_paths = [os.path.join(dir_path, f) for f in files]\n",
    "        \n",
    "        for file_path in files_paths:\n",
    "            img_bgr = cv2.imread(file_path, cv2.IMREAD_COLOR)\n",
    "            img_rgb = cv2.cvtColor(img_bgr, cv2.COLOR_BGR2RGB)\n",
    "            input_img = img_rgb.astype(np.float32)/255.\n",
    "            \n",
    "            X.append(input_img)\n",
    "            y.append(int(i))\n",
    "            \n",
    "    return np.array(X), np.array(y).astype(np.uint8)"
   ]
  },
  {
   "cell_type": "code",
   "execution_count": 3,
   "metadata": {},
   "outputs": [
    {
     "name": "stdout",
     "output_type": "stream",
     "text": [
      "(18654, 250, 200, 3) (18654, 7)\n",
      "(9222, 250, 200, 3) (9222, 7)\n"
     ]
    }
   ],
   "source": [
    "from tensorflow.keras.utils import to_categorical\n",
    "\n",
    "num_classes = 7\n",
    "\n",
    "# Load train, validation datas\n",
    "X_train, y_train = get_X_y_datas(train_cls_dirs)\n",
    "X_val, y_val = get_X_y_datas(val_cls_dirs)\n",
    "\n",
    "# Shuffle\n",
    "idx = np.random.permutation(len(X_train))\n",
    "X_train, y_train = X_train[idx], y_train[idx]\n",
    "\n",
    "idx = np.random.permutation(len(X_val))\n",
    "X_val, y_val = X_val[idx], y_val[idx]\n",
    "\n",
    "# one-hot encoding\n",
    "y_train = to_categorical(y_train, num_classes)\n",
    "y_val = to_categorical(y_val, num_classes)\n",
    "\n",
    "print(X_train.shape, y_train.shape)\n",
    "print(X_val.shape, y_val.shape)"
   ]
  },
  {
   "cell_type": "code",
   "execution_count": 4,
   "metadata": {},
   "outputs": [],
   "source": [
    "from tensorflow.keras.callbacks import ModelCheckpoint, EarlyStopping, ReduceLROnPlateau\n",
    "from tensorflow.keras.optimizers import Adam, RMSprop\n",
    "\n",
    "# 학습에 사용할 callback\n",
    "callbacks_list = [\n",
    "    EarlyStopping(\n",
    "        monitor='val_loss',\n",
    "        patience=10,\n",
    "    ),\n",
    "    ModelCheckpoint(\n",
    "        filepath=os.path.join(save_dir, 'hand_sign_fine_tune_vgg16.h5'),\n",
    "        monitor='val_loss',\n",
    "        save_best_only=True,\n",
    "    ),\n",
    "    ReduceLROnPlateau(\n",
    "        monitor='val_loss',\n",
    "        factor=0.5,\n",
    "        patience=5,\n",
    "        verbose=1\n",
    "    )\n",
    "]"
   ]
  },
  {
   "cell_type": "code",
   "execution_count": 5,
   "metadata": {},
   "outputs": [
    {
     "name": "stdout",
     "output_type": "stream",
     "text": [
      "INFO:tensorflow:Using MirroredStrategy with devices ('/job:localhost/replica:0/task:0/device:GPU:0', '/job:localhost/replica:0/task:0/device:GPU:1')\n",
      "INFO:tensorflow:Reduce to /job:localhost/replica:0/task:0/device:CPU:0 then broadcast to ('/job:localhost/replica:0/task:0/device:CPU:0',).\n",
      "INFO:tensorflow:Reduce to /job:localhost/replica:0/task:0/device:CPU:0 then broadcast to ('/job:localhost/replica:0/task:0/device:CPU:0',).\n",
      "INFO:tensorflow:Reduce to /job:localhost/replica:0/task:0/device:CPU:0 then broadcast to ('/job:localhost/replica:0/task:0/device:CPU:0',).\n",
      "INFO:tensorflow:Reduce to /job:localhost/replica:0/task:0/device:CPU:0 then broadcast to ('/job:localhost/replica:0/task:0/device:CPU:0',).\n",
      "INFO:tensorflow:Reduce to /job:localhost/replica:0/task:0/device:CPU:0 then broadcast to ('/job:localhost/replica:0/task:0/device:CPU:0',).\n",
      "INFO:tensorflow:Reduce to /job:localhost/replica:0/task:0/device:CPU:0 then broadcast to ('/job:localhost/replica:0/task:0/device:CPU:0',).\n",
      "Model: \"sequential\"\n",
      "_________________________________________________________________\n",
      "Layer (type)                 Output Shape              Param #   \n",
      "=================================================================\n",
      "vgg16 (Model)                (None, 7, 6, 512)         14714688  \n",
      "_________________________________________________________________\n",
      "flatten (Flatten)            (None, 21504)             0         \n",
      "_________________________________________________________________\n",
      "dense (Dense)                (None, 512)               11010560  \n",
      "_________________________________________________________________\n",
      "batch_normalization (BatchNo (None, 512)               2048      \n",
      "_________________________________________________________________\n",
      "re_lu (ReLU)                 (None, 512)               0         \n",
      "_________________________________________________________________\n",
      "dropout (Dropout)            (None, 512)               0         \n",
      "_________________________________________________________________\n",
      "dense_1 (Dense)              (None, 512)               262656    \n",
      "_________________________________________________________________\n",
      "batch_normalization_1 (Batch (None, 512)               2048      \n",
      "_________________________________________________________________\n",
      "re_lu_1 (ReLU)               (None, 512)               0         \n",
      "_________________________________________________________________\n",
      "dropout_1 (Dropout)          (None, 512)               0         \n",
      "_________________________________________________________________\n",
      "dense_2 (Dense)              (None, 7)                 3591      \n",
      "=================================================================\n",
      "Total params: 25,995,591\n",
      "Trainable params: 11,278,855\n",
      "Non-trainable params: 14,716,736\n",
      "_________________________________________________________________\n"
     ]
    }
   ],
   "source": [
    "import tensorflow as tf\n",
    "from tensorflow.keras.applications import VGG16\n",
    "from tensorflow.keras import models, layers\n",
    "from tensorflow.keras import regularizers\n",
    "\n",
    "h = 250 # height\n",
    "w = 200 # width\n",
    "c = 3  # channels\n",
    "\n",
    "# Multi GPU\n",
    "strategy = tf.distribute.MirroredStrategy()\n",
    "with strategy.scope():\n",
    "    # pretrained vgg16 모델 불러오기 (include_top=False로 FCN은 제외하고 불러옴)\n",
    "    vgg16 = VGG16(weights='imagenet', include_top=False, input_shape=(h, w, c))\n",
    "    # vgg16 모델은 학습이 되지 않도록 동결\n",
    "    vgg16.trainable = False\n",
    "    \n",
    "    model = models.Sequential()\n",
    "    model.add(vgg16)\n",
    "\n",
    "    model.add(layers.Flatten())\n",
    "\n",
    "    model.add(layers.Dense(512))\n",
    "    model.add(layers.BatchNormalization())\n",
    "    model.add(layers.ReLU())\n",
    "    model.add(layers.Dropout(0.5))\n",
    "\n",
    "    model.add(layers.Dense(512))\n",
    "    model.add(layers.BatchNormalization())\n",
    "    model.add(layers.ReLU())\n",
    "    model.add(layers.Dropout(0.5))\n",
    "\n",
    "    model.add(layers.Dense(num_classes, activation='softmax'))\n",
    "    \n",
    "    model.compile(optimizer=RMSprop(),\n",
    "              loss='categorical_crossentropy',\n",
    "              metrics=['acc'])\n",
    "\n",
    "model.summary()"
   ]
  },
  {
   "cell_type": "code",
   "execution_count": 6,
   "metadata": {},
   "outputs": [
    {
     "name": "stdout",
     "output_type": "stream",
     "text": [
      "Train on 18654 samples, validate on 9222 samples\n",
      "Epoch 1/100\n",
      "INFO:tensorflow:batch_all_reduce: 10 all-reduces with algorithm = nccl, num_packs = 1, agg_small_grads_max_bytes = 0 and agg_small_grads_max_group = 10\n",
      "INFO:tensorflow:Reduce to /job:localhost/replica:0/task:0/device:CPU:0 then broadcast to ('/job:localhost/replica:0/task:0/device:CPU:0',).\n",
      "INFO:tensorflow:Reduce to /job:localhost/replica:0/task:0/device:CPU:0 then broadcast to ('/job:localhost/replica:0/task:0/device:CPU:0',).\n",
      "INFO:tensorflow:Reduce to /job:localhost/replica:0/task:0/device:CPU:0 then broadcast to ('/job:localhost/replica:0/task:0/device:CPU:0',).\n",
      "INFO:tensorflow:Reduce to /job:localhost/replica:0/task:0/device:CPU:0 then broadcast to ('/job:localhost/replica:0/task:0/device:CPU:0',).\n",
      "INFO:tensorflow:batch_all_reduce: 10 all-reduces with algorithm = nccl, num_packs = 1, agg_small_grads_max_bytes = 0 and agg_small_grads_max_group = 10\n",
      "18654/18654 [==============================] - 45s 2ms/sample - loss: 1.1069 - acc: 0.6017 - val_loss: 1.0933 - val_acc: 0.6808\n",
      "Epoch 2/100\n",
      "18654/18654 [==============================] - 24s 1ms/sample - loss: 0.5471 - acc: 0.8077 - val_loss: 0.6748 - val_acc: 0.7819\n",
      "Epoch 3/100\n",
      "18654/18654 [==============================] - 23s 1ms/sample - loss: 0.3749 - acc: 0.8709 - val_loss: 0.7489 - val_acc: 0.7907\n",
      "Epoch 4/100\n",
      "18654/18654 [==============================] - 23s 1ms/sample - loss: 0.2835 - acc: 0.8989 - val_loss: 0.9605 - val_acc: 0.7659\n",
      "Epoch 5/100\n",
      "18654/18654 [==============================] - 23s 1ms/sample - loss: 0.2233 - acc: 0.9248 - val_loss: 0.8700 - val_acc: 0.7854\n",
      "Epoch 6/100\n",
      "18654/18654 [==============================] - 23s 1ms/sample - loss: 0.1993 - acc: 0.9320 - val_loss: 0.7324 - val_acc: 0.8093\n",
      "Epoch 7/100\n",
      "18624/18654 [============================>.] - ETA: 0s - loss: 0.1677 - acc: 0.9439\n",
      "Epoch 00007: ReduceLROnPlateau reducing learning rate to 0.0005000000237487257.\n",
      "18654/18654 [==============================] - 23s 1ms/sample - loss: 0.1675 - acc: 0.9440 - val_loss: 0.8542 - val_acc: 0.8015\n",
      "Epoch 8/100\n",
      "18654/18654 [==============================] - 23s 1ms/sample - loss: 0.1126 - acc: 0.9623 - val_loss: 0.6084 - val_acc: 0.8363\n",
      "Epoch 9/100\n",
      "18654/18654 [==============================] - 23s 1ms/sample - loss: 0.0790 - acc: 0.9736 - val_loss: 0.6459 - val_acc: 0.8428\n",
      "Epoch 10/100\n",
      "18654/18654 [==============================] - 23s 1ms/sample - loss: 0.0746 - acc: 0.9751 - val_loss: 0.7010 - val_acc: 0.8389\n",
      "Epoch 11/100\n",
      "18654/18654 [==============================] - 23s 1ms/sample - loss: 0.0568 - acc: 0.9824 - val_loss: 0.7632 - val_acc: 0.8322\n",
      "Epoch 12/100\n",
      "18654/18654 [==============================] - 23s 1ms/sample - loss: 0.0658 - acc: 0.9796 - val_loss: 0.7385 - val_acc: 0.8399\n",
      "Epoch 13/100\n",
      "18624/18654 [============================>.] - ETA: 0s - loss: 0.0599 - acc: 0.9811\n",
      "Epoch 00013: ReduceLROnPlateau reducing learning rate to 0.0002500000118743628.\n",
      "18654/18654 [==============================] - 23s 1ms/sample - loss: 0.0600 - acc: 0.9811 - val_loss: 0.7803 - val_acc: 0.8369\n",
      "Epoch 14/100\n",
      "18654/18654 [==============================] - 23s 1ms/sample - loss: 0.0447 - acc: 0.9852 - val_loss: 0.7075 - val_acc: 0.8485\n",
      "Epoch 15/100\n",
      "18654/18654 [==============================] - 23s 1ms/sample - loss: 0.0440 - acc: 0.9864 - val_loss: 0.7269 - val_acc: 0.8511\n",
      "Epoch 16/100\n",
      "18654/18654 [==============================] - 23s 1ms/sample - loss: 0.0339 - acc: 0.9894 - val_loss: 0.7717 - val_acc: 0.8472\n",
      "Epoch 17/100\n",
      "18654/18654 [==============================] - 23s 1ms/sample - loss: 0.0281 - acc: 0.9909 - val_loss: 0.7391 - val_acc: 0.8469\n",
      "Epoch 18/100\n",
      "18624/18654 [============================>.] - ETA: 0s - loss: 0.0302 - acc: 0.9909\n",
      "Epoch 00018: ReduceLROnPlateau reducing learning rate to 0.0001250000059371814.\n",
      "18654/18654 [==============================] - 23s 1ms/sample - loss: 0.0306 - acc: 0.9908 - val_loss: 0.7993 - val_acc: 0.8457\n"
     ]
    }
   ],
   "source": [
    "batch_size = 64\n",
    "n_epochs = 100\n",
    "\n",
    "history = model.fit(X_train, y_train,\n",
    "                    epochs=n_epochs, batch_size=batch_size,\n",
    "                    validation_data=(X_val, y_val),\n",
    "                    callbacks=callbacks_list)"
   ]
  },
  {
   "cell_type": "code",
   "execution_count": 7,
   "metadata": {},
   "outputs": [
    {
     "data": {
      "image/png": "[encoded data removed]",
      "text/plain": [
       "<Figure size 432x288 with 1 Axes>"
      ]
     },
     "metadata": {
      "needs_background": "light"
     },
     "output_type": "display_data"
    },
    {
     "data": {
      "image/png": "[encoded data removed]",
      "text/plain": [
       "<Figure size 432x288 with 1 Axes>"
      ]
     },
     "metadata": {
      "needs_background": "light"
     },
     "output_type": "display_data"
    }
   ],
   "source": [
    "import matplotlib.pyplot as plt\n",
    "\n",
    "acc = history.history['acc']\n",
    "val_acc = history.history['val_acc']\n",
    "loss = history.history['loss']\n",
    "val_loss = history.history['val_loss']\n",
    "\n",
    "epochs = range(1, len(acc) + 1)\n",
    "\n",
    "# Plot accuracy curve\n",
    "plt.plot(epochs, acc, 'b', label='Training Accuracy')\n",
    "plt.plot(epochs, val_acc, 'r', label='Validation Accuracy')\n",
    "plt.title('Accuracy')\n",
    "plt.legend()\n",
    "\n",
    "plt.figure()\n",
    "\n",
    "# Plot loss curve\n",
    "plt.plot(epochs, loss, 'b', label='Training loss')\n",
    "plt.plot(epochs, val_loss, 'r', label='Validation_loss')\n",
    "plt.title('Loss')\n",
    "plt.legend()\n",
    "\n",
    "plt.show()"
   ]
  }
 ],
 "metadata": {
  "kernelspec": {
   "display_name": "Python 3",
   "language": "python",
   "name": "python3"
  },
  "language_info": {
   "codemirror_mode": {
    "name": "ipython",
    "version": 3
   },
   "file_extension": ".py",
   "mimetype": "text/x-python",
   "name": "python",
   "nbconvert_exporter": "python",
   "pygments_lexer": "ipython3",
   "version": "3.7.6"
  }
 },
 "nbformat": 4,
 "nbformat_minor": 4
}
