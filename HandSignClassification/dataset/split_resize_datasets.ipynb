{
 "cells": [
  {
   "cell_type": "code",
   "execution_count": 1,
   "metadata": {
    "scrolled": true
   },
   "outputs": [],
   "source": [
    "import os\n",
    "import shutil\n",
    "\n",
    "cur_path = os.getcwd()\n",
    "\n",
    "hand_dir = os.path.join(cur_path, 'hand')\n",
    "train_dir = os.path.join(cur_path, 'train')\n",
    "test_dir = os.path.join(cur_path, 'test')\n",
    "\n",
    "clss = ['0_front', '1_back', '1_front', '2_back', '2_front', '5_front', 'ILU']\n",
    "\n",
    "hand_cls_dirs = [os.path.join(hand_dir, c) for c in clss]\n",
    "train_cls_dirs = [os.path.join(train_dir, c) for c in clss]\n",
    "test_cls_dirs = [os.path.join(test_dir, c) for c in clss]"
   ]
  },
  {
   "cell_type": "code",
   "execution_count": 2,
   "metadata": {},
   "outputs": [],
   "source": [
    "for d in train_cls_dirs:\n",
    "    if os.path.isdir(d) :\n",
    "        shutil.rmtree(d)\n",
    "        os.mkdir(d)\n",
    "    else:\n",
    "        os.mkdir(d)\n",
    "\n",
    "for d in test_cls_dirs:\n",
    "    if os.path.isdir(d) :\n",
    "        shutil.rmtree(d)\n",
    "        os.mkdir(d)\n",
    "    else:\n",
    "        os.mkdir(d)"
   ]
  },
  {
   "cell_type": "code",
   "execution_count": 3,
   "metadata": {},
   "outputs": [],
   "source": [
    "import cv2\n",
    "\n",
    "def resize_img(src_path, target_path):\n",
    "    img = cv2.imread(src_path, cv2.IMREAD_COLOR)\n",
    "    img = cv2.resize(img, (150, 150))\n",
    "    cv2.imwrite(target_path, img)"
   ]
  },
  {
   "cell_type": "code",
   "execution_count": 4,
   "metadata": {},
   "outputs": [],
   "source": [
    "import random\n",
    "\n",
    "random.seed(42)\n",
    "\n",
    "for hand_cls_dir, train_cls_dir, test_cls_dir, val_cls_dir in zip(hand_cls_dirs, train_cls_dirs, test_cls_dirs, val_cls_dirs):\n",
    "    imgs = sorted(os.listdir(hand_cls_dir))\n",
    "    random.shuffle(imgs)\n",
    "    \n",
    "    test_idx = (len(imgs)//10) * 2\n",
    "    test_imgs = imgs[:test_idx]\n",
    "    train_imgs = imgs[test_idx:]\n",
    "    \n",
    "    src_train_imgs = [os.path.join(hand_cls_dir, img) for img in train_imgs]\n",
    "    src_test_imgs = [os.path.join(hand_cls_dir, img) for img in test_imgs]\n",
    "    \n",
    "    dst_train_imgs = [os.path.join(train_cls_dir, img) for img in train_imgs]\n",
    "    dst_test_imgs = [os.path.join(test_cls_dir, img) for img in test_imgs]\n",
    "    \n",
    "    for src, dst in zip(src_train_imgs, dst_train_imgs):\n",
    "        resize_img(src, dst)\n",
    "    \n",
    "    for src, dst in zip(src_test_imgs, dst_test_imgs):\n",
    "        resize_img(src, dst)"
   ]
  }
 ],
 "metadata": {
  "kernelspec": {
   "display_name": "Python 3",
   "language": "python",
   "name": "python3"
  },
  "language_info": {
   "codemirror_mode": {
    "name": "ipython",
    "version": 3
   },
   "file_extension": ".py",
   "mimetype": "text/x-python",
   "name": "python",
   "nbconvert_exporter": "python",
   "pygments_lexer": "ipython3",
   "version": "3.7.6"
  }
 },
 "nbformat": 4,
 "nbformat_minor": 2
}
