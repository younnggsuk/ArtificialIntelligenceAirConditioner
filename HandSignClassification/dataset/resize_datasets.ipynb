{
 "cells": [
  {
   "cell_type": "code",
   "execution_count": 1,
   "metadata": {
    "scrolled": true
   },
   "outputs": [],
   "source": [
    "import os\n",
    "import shutil\n",
    "\n",
    "cur_path = os.getcwd()\n",
    "\n",
    "train_dir = os.path.join(cur_path, 'train')\n",
    "test_dir = os.path.join(cur_path, 'test')\n",
    "\n",
    "clss = ['0_front', '1_back', '1_front', '2_back', '2_front', '5_front', 'ILU']\n",
    "\n",
    "train_cls_dirs = [os.path.join(train_dir, c) for c in clss]\n",
    "test_cls_dirs = [os.path.join(test_dir, c) for c in clss]"
   ]
  },
  {
   "cell_type": "code",
   "execution_count": 2,
   "metadata": {},
   "outputs": [],
   "source": [
    "import cv2\n",
    "\n",
    "def resize_img(src_path, target_path):\n",
    "    img = cv2.imread(src_path, cv2.IMREAD_COLOR)\n",
    "    img = cv2.resize(img, (130, 170))\n",
    "    cv2.imwrite(target_path, img)"
   ]
  },
  {
   "cell_type": "code",
   "execution_count": 3,
   "metadata": {},
   "outputs": [],
   "source": [
    "import random\n",
    "\n",
    "for train_cls_dir, test_cls_dir in zip(train_cls_dirs, test_cls_dirs):\n",
    "    train_imgs = os.listdir(train_cls_dir)\n",
    "    test_imgs = os.listdir(test_cls_dir)\n",
    "    \n",
    "    train_imgs_path = [os.path.join(train_cls_dir, img) for img in train_imgs]\n",
    "    test_imgs_path = [os.path.join(test_cls_dir, img) for img in test_imgs]\n",
    "    \n",
    "    for path in train_imgs_path:\n",
    "        resize_img(path, path)\n",
    "        \n",
    "    for path in test_imgs_path:\n",
    "        resize_img(path, path)"
   ]
  }
 ],
 "metadata": {
  "kernelspec": {
   "display_name": "Python 3",
   "language": "python",
   "name": "python3"
  },
  "language_info": {
   "codemirror_mode": {
    "name": "ipython",
    "version": 3
   },
   "file_extension": ".py",
   "mimetype": "text/x-python",
   "name": "python",
   "nbconvert_exporter": "python",
   "pygments_lexer": "ipython3",
   "version": "3.7.6"
  }
 },
 "nbformat": 4,
 "nbformat_minor": 2
}
