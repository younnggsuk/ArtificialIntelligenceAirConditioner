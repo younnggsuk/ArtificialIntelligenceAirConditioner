{
 "cells": [
  {
   "cell_type": "markdown",
   "metadata": {},
   "source": [
    "# 2. Augment and Resize data"
   ]
  },
  {
   "cell_type": "code",
   "execution_count": 1,
   "metadata": {
    "scrolled": true
   },
   "outputs": [],
   "source": [
    "import os\n",
    "import shutil\n",
    "\n",
    "cur_path = os.getcwd()\n",
    "classes = ['0_front', '1_back', '1_front', '2_back', '2_front', '5_front', 'ILU']\n",
    "\n",
    "# train directory paths\n",
    "train_dir = os.path.join(cur_path, 'train')\n",
    "train_cls_dirs = [os.path.join(train_dir, c) for c in classes]\n",
    "\n",
    "# validation directory paths\n",
    "val_dir = os.path.join(cur_path, 'val')\n",
    "val_cls_dirs = [os.path.join(val_dir, c) for c in classes]"
   ]
  },
  {
   "cell_type": "code",
   "execution_count": 2,
   "metadata": {},
   "outputs": [],
   "source": [
    "import cv2\n",
    "import numpy as np\n",
    "import tensorflow as tf\n",
    "from tensorflow.keras.preprocessing.image import ImageDataGenerator\n",
    "from tensorflow.keras.preprocessing.image import array_to_img\n",
    "\n",
    "# keras image data generator 생성\n",
    "datagen = ImageDataGenerator(rotation_range=15,\n",
    "                             width_shift_range=0.3, \n",
    "                             height_shift_range=0.15,\n",
    "                             shear_range=0.2,\n",
    "                             zoom_range=[1, 1.5],\n",
    "                             brightness_range=[1.0, 1.5],\n",
    "                             fill_mode='nearest')\n",
    "\n",
    "# Resize & Augment images\n",
    "def augment_preprocess_img(src_path, target_path):\n",
    "    # RGB\n",
    "    img = cv2.imread(src_path, cv2.IMREAD_COLOR)\n",
    "    # resize to (200, 250)\n",
    "    img = cv2.resize(img, (200, 250))\n",
    "    img_input = np.expand_dims(img, axis=0)\n",
    "    \n",
    "    # 한 이미지당 5번의 augmentation을 수행\n",
    "    for batch, i in zip(datagen.flow(img_input, batch_size=1), range(5)):\n",
    "        aug_img = array_to_img(batch[0])\n",
    "        cv2.imwrite(f\"{target_path[:-4]}_{i}.jpg\", np.array(aug_img))\n",
    "    \n",
    "    # 원본 이미지도 복사 (원본 이미지도 resizing을 하였기 때문에)\n",
    "    cv2.imwrite(target_path, img)"
   ]
  },
  {
   "cell_type": "code",
   "execution_count": 3,
   "metadata": {},
   "outputs": [],
   "source": [
    "# train directory에 대해 수행\n",
    "for train_cls_dir in train_cls_dirs:\n",
    "    train_imgs = os.listdir(train_cls_dir)\n",
    "    train_imgs_path = [os.path.join(train_cls_dir, img) for img in train_imgs]\n",
    "    \n",
    "    for path in train_imgs_path:\n",
    "        augment_preprocess_img(path, path)\n",
    "        \n",
    "# validation directory에 대해 수행        \n",
    "for val_cls_dir in val_cls_dirs:\n",
    "    val_imgs = os.listdir(val_cls_dir)\n",
    "    val_imgs_path = [os.path.join(val_cls_dir, img) for img in val_imgs]\n",
    "    \n",
    "    for path in val_imgs_path:\n",
    "        augment_preprocess_img(path, path)"
   ]
  }
 ],
 "metadata": {
  "kernelspec": {
   "display_name": "Python 3",
   "language": "python",
   "name": "python3"
  },
  "language_info": {
   "codemirror_mode": {
    "name": "ipython",
    "version": 3
   },
   "file_extension": ".py",
   "mimetype": "text/x-python",
   "name": "python",
   "nbconvert_exporter": "python",
   "pygments_lexer": "ipython3",
   "version": "3.7.6"
  }
 },
 "nbformat": 4,
 "nbformat_minor": 2
}
