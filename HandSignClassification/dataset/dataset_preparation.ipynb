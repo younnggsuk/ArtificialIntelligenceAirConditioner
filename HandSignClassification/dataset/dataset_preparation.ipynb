{
 "cells": [
  {
   "cell_type": "markdown",
   "metadata": {},
   "source": [
    "# 1. Dataset Preparation"
   ]
  },
  {
   "cell_type": "code",
   "execution_count": 1,
   "metadata": {
    "scrolled": true
   },
   "outputs": [],
   "source": [
    "import os\n",
    "import random\n",
    "\n",
    "# 전체 hand dataset directory name list : [hand_1, hand_2, hand_3, hand_4, hand_5]\n",
    "all_hand_dirs = [f\"hand_{i+1}\" for i in range(5)]\n",
    "\n",
    "# 7가지 class name\n",
    "classes = ['0_front', '1_back', '1_front', '2_back', '2_front', '5_front', 'ILU']\n",
    "\n",
    "# train directory paths\n",
    "train_dir = 'train'\n",
    "train_cls_dirs = [os.path.join(train_dir, c) for c in classes]\n",
    "\n",
    "# validation directory paths\n",
    "val_dir = 'val'\n",
    "val_cls_dirs = [os.path.join(val_dir, c) for c in classes]"
   ]
  },
  {
   "cell_type": "code",
   "execution_count": 2,
   "metadata": {},
   "outputs": [],
   "source": [
    "# train directory 생성\n",
    "if not os.path.isdir(train_dir) :\n",
    "    os.mkdir(train_dir)        \n",
    "\n",
    "# train directory의 class dir 생성\n",
    "for d in train_cls_dirs:\n",
    "    if not os.path.isdir(d):\n",
    "        os.mkdir(d)    \n",
    "\n",
    "# validation directory 생성\n",
    "if not os.path.isdir(val_dir) :\n",
    "    os.mkdir(val_dir)\n",
    "    \n",
    "# valdiation directory의 class dir 생성\n",
    "for d in val_cls_dirs:\n",
    "    if not os.path.isdir(d):\n",
    "        os.mkdir(d)"
   ]
  },
  {
   "cell_type": "code",
   "execution_count": 3,
   "metadata": {},
   "outputs": [],
   "source": [
    "import shutil\n",
    "import random\n",
    "\n",
    "# 각 directory별로 동일한 비율로 data를 split해서 train, val에 복사\n",
    "def split_train_test(hand_dir):\n",
    "    for class_name in sorted(os.listdir(hand_dir)):\n",
    "        class_imgs = sorted(os.listdir(os.path.join(hand_dir, class_name)))\n",
    "        \n",
    "        # 1/3을 validation으로 사용하기 위한 1/3 지점의 index\n",
    "        val_idx = len(class_imgs)//3\n",
    "        \n",
    "        # shuffle\n",
    "        random.seed(42)\n",
    "        random.shuffle(class_imgs)\n",
    "\n",
    "        # val_idx를 기준으로 train, val 분리\n",
    "        src_val_imgs = [os.path.join(hand_dir, class_name, img) for img in class_imgs[:val_idx]]\n",
    "        src_train_imgs = [os.path.join(hand_dir, class_name, img) for img in class_imgs[val_idx:]]\n",
    "\n",
    "        dst_val_imgs = [os.path.join(val_dir, class_name, img) for img in class_imgs[:val_idx]]\n",
    "        dst_train_imgs = [os.path.join(train_dir, class_name, img) for img in class_imgs[val_idx:]]\n",
    "\n",
    "        # 데이터 복사\n",
    "        for src, dst in zip(src_val_imgs, dst_val_imgs):\n",
    "            shutil.copy(src, dst)\n",
    "\n",
    "        for src, dst in zip(src_train_imgs, dst_train_imgs):\n",
    "            shutil.copy(src, dst)"
   ]
  },
  {
   "cell_type": "code",
   "execution_count": 4,
   "metadata": {},
   "outputs": [],
   "source": [
    "# 전체 hand dataset directory에 대해 수행\n",
    "for hand_dir in all_hand_dirs:\n",
    "    split_train_test(hand_dir)"
   ]
  }
 ],
 "metadata": {
  "kernelspec": {
   "display_name": "Python 3",
   "language": "python",
   "name": "python3"
  },
  "language_info": {
   "codemirror_mode": {
    "name": "ipython",
    "version": 3
   },
   "file_extension": ".py",
   "mimetype": "text/x-python",
   "name": "python",
   "nbconvert_exporter": "python",
   "pygments_lexer": "ipython3",
   "version": "3.7.6"
  }
 },
 "nbformat": 4,
 "nbformat_minor": 2
}
